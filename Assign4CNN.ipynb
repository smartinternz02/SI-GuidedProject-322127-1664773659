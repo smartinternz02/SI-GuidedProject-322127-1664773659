{
 "cells": [
  {
   "cell_type": "markdown",
   "id": "046d921c",
   "metadata": {},
   "source": [
    "# Importing Libraries"
   ]
  },
  {
   "cell_type": "code",
   "execution_count": 5,
   "id": "046b373d",
   "metadata": {},
   "outputs": [],
   "source": [
    "#importing libraries\n",
    "\n",
    "from tensorflow.keras.models import Sequential\n",
    "from tensorflow.keras.layers import Dense\n",
    "from tensorflow.keras.layers import Convolution2D, MaxPooling2D, Flatten"
   ]
  },
  {
   "cell_type": "markdown",
   "id": "610450fc",
   "metadata": {},
   "source": [
    "# Image Augmentation"
   ]
  },
  {
   "cell_type": "code",
   "execution_count": 6,
   "id": "ebc298b2",
   "metadata": {},
   "outputs": [],
   "source": [
    "from tensorflow.keras.preprocessing.image import ImageDataGenerator"
   ]
  },
  {
   "cell_type": "code",
   "execution_count": 7,
   "id": "c7a1e1c5",
   "metadata": {},
   "outputs": [],
   "source": [
    "train_datagen = ImageDataGenerator(rescale = 1./255, shear_range = 0.2, zoom_range = 0.2, horizontal_flip = True)\n",
    "test_datagen = ImageDataGenerator(rescale = 1./255)"
   ]
  },
  {
   "cell_type": "code",
   "execution_count": 10,
   "id": "d3aa95d8",
   "metadata": {},
   "outputs": [
    {
     "name": "stdout",
     "output_type": "stream",
     "text": [
      "Found 4167 images belonging to 5 classes.\n",
      "Found 150 images belonging to 5 classes.\n"
     ]
    },
    {
     "data": {
      "text/plain": [
       "{'daisy': 0, 'dandelion': 1, 'rose': 2, 'sunflower': 3, 'tulip': 4}"
      ]
     },
     "execution_count": 10,
     "metadata": {},
     "output_type": "execute_result"
    }
   ],
   "source": [
    "X_train = train_datagen.flow_from_directory(r\"D:\\Maheshfiles\\Studies\\Smart Bridge\\Flower Dataset\\train data\", target_size = (64, 64), batch_size = 32, class_mode = 'categorical')\n",
    "X_test = test_datagen.flow_from_directory(r\"D:\\Maheshfiles\\Studies\\Smart Bridge\\Flower Dataset\\test data\", target_size = (64, 64), batch_size = 32, class_mode = 'categorical')\n",
    "\n",
    "X_train.class_indices \n"
   ]
  },
  {
   "cell_type": "markdown",
   "id": "63022707",
   "metadata": {},
   "source": [
    "# Creating Model and Adding Layers"
   ]
  },
  {
   "cell_type": "code",
   "execution_count": 12,
   "id": "6eec705a",
   "metadata": {},
   "outputs": [],
   "source": [
    "model = Sequential()"
   ]
  },
  {
   "cell_type": "code",
   "execution_count": 13,
   "id": "39685dcc",
   "metadata": {},
   "outputs": [],
   "source": [
    "# Convolution Layer\n",
    "model.add(Convolution2D((32), (3,3), input_shape = (64, 64, 3), activation = 'relu'))"
   ]
  },
  {
   "cell_type": "code",
   "execution_count": 14,
   "id": "8dd377aa",
   "metadata": {},
   "outputs": [],
   "source": [
    "# Pooling Layer\n",
    "model.add(MaxPooling2D(pool_size = (2,2)))"
   ]
  },
  {
   "cell_type": "code",
   "execution_count": 15,
   "id": "adc7942a",
   "metadata": {},
   "outputs": [],
   "source": [
    "#Flatten Layer\n",
    "model.add(Flatten())"
   ]
  },
  {
   "cell_type": "code",
   "execution_count": 16,
   "id": "436be57c",
   "metadata": {},
   "outputs": [],
   "source": [
    "# Hidden Layers\n",
    "model.add(Dense(units = 128, kernel_initializer = 'random_uniform', activation = 'relu'))\n",
    "model.add(Dense(units = 128, kernel_initializer = 'random_uniform', activation = 'relu'))"
   ]
  },
  {
   "cell_type": "code",
   "execution_count": 17,
   "id": "a78ac602",
   "metadata": {},
   "outputs": [],
   "source": [
    "# Output Layer\n",
    "model.add(Dense(units = 5, kernel_initializer = 'random_uniform', activation = 'softmax'))"
   ]
  },
  {
   "cell_type": "markdown",
   "id": "f3974ccc",
   "metadata": {},
   "source": [
    "# Compiling the Model"
   ]
  },
  {
   "cell_type": "code",
   "execution_count": 18,
   "id": "509114fd",
   "metadata": {},
   "outputs": [],
   "source": [
    "model.compile(loss = 'categorical_crossentropy', optimizer = 'adam', metrics = ['accuracy'])"
   ]
  },
  {
   "cell_type": "markdown",
   "id": "1a58f6bb",
   "metadata": {},
   "source": [
    "# Fitting the model"
   ]
  },
  {
   "cell_type": "code",
   "execution_count": 19,
   "id": "405e30e2",
   "metadata": {},
   "outputs": [
    {
     "name": "stderr",
     "output_type": "stream",
     "text": [
      "C:\\Users\\mahes\\AppData\\Local\\Temp/ipykernel_4452/3297520287.py:1: UserWarning: `Model.fit_generator` is deprecated and will be removed in a future version. Please use `Model.fit`, which supports generators.\n",
      "  model.fit_generator(X_train, steps_per_epoch = 130, epochs = 25, validation_data = X_test, validation_steps = 4)\n"
     ]
    },
    {
     "name": "stdout",
     "output_type": "stream",
     "text": [
      "Epoch 1/25\n",
      "130/130 [==============================] - 156s 1s/step - loss: 1.3172 - accuracy: 0.4119 - val_loss: 1.1060 - val_accuracy: 0.5078\n",
      "Epoch 2/25\n",
      "130/130 [==============================] - 16s 126ms/step - loss: 1.1214 - accuracy: 0.5345 - val_loss: 0.9797 - val_accuracy: 0.5625\n",
      "Epoch 3/25\n",
      "130/130 [==============================] - 16s 126ms/step - loss: 1.0265 - accuracy: 0.5901 - val_loss: 0.8964 - val_accuracy: 0.6406\n",
      "Epoch 4/25\n",
      "130/130 [==============================] - 16s 126ms/step - loss: 0.9347 - accuracy: 0.6445 - val_loss: 0.8369 - val_accuracy: 0.6484\n",
      "Epoch 5/25\n",
      "130/130 [==============================] - 16s 126ms/step - loss: 0.8798 - accuracy: 0.6622 - val_loss: 0.9837 - val_accuracy: 0.6016\n",
      "Epoch 6/25\n",
      "130/130 [==============================] - 16s 126ms/step - loss: 0.8302 - accuracy: 0.6825 - val_loss: 0.8598 - val_accuracy: 0.7109\n",
      "Epoch 7/25\n",
      "130/130 [==============================] - 17s 127ms/step - loss: 0.7928 - accuracy: 0.6982 - val_loss: 0.9753 - val_accuracy: 0.6797\n",
      "Epoch 8/25\n",
      "130/130 [==============================] - 17s 127ms/step - loss: 0.7617 - accuracy: 0.7108 - val_loss: 0.8738 - val_accuracy: 0.7188\n",
      "Epoch 9/25\n",
      "130/130 [==============================] - 16s 126ms/step - loss: 0.7254 - accuracy: 0.7260 - val_loss: 0.8924 - val_accuracy: 0.6406\n",
      "Epoch 10/25\n",
      "130/130 [==============================] - 16s 126ms/step - loss: 0.7050 - accuracy: 0.7354 - val_loss: 0.9700 - val_accuracy: 0.6641\n",
      "Epoch 11/25\n",
      "130/130 [==============================] - 17s 127ms/step - loss: 0.6590 - accuracy: 0.7497 - val_loss: 1.1606 - val_accuracy: 0.5859\n",
      "Epoch 12/25\n",
      "130/130 [==============================] - 16s 126ms/step - loss: 0.6109 - accuracy: 0.7732 - val_loss: 1.0389 - val_accuracy: 0.6641\n",
      "Epoch 13/25\n",
      "130/130 [==============================] - 16s 126ms/step - loss: 0.5899 - accuracy: 0.7799 - val_loss: 1.0795 - val_accuracy: 0.6328\n",
      "Epoch 14/25\n",
      "130/130 [==============================] - 16s 126ms/step - loss: 0.5809 - accuracy: 0.7807 - val_loss: 1.0396 - val_accuracy: 0.6641\n",
      "Epoch 15/25\n",
      "130/130 [==============================] - 16s 126ms/step - loss: 0.5545 - accuracy: 0.7966 - val_loss: 1.1913 - val_accuracy: 0.6250\n",
      "Epoch 16/25\n",
      "130/130 [==============================] - 16s 125ms/step - loss: 0.5060 - accuracy: 0.8126 - val_loss: 1.1479 - val_accuracy: 0.6797\n",
      "Epoch 17/25\n",
      "130/130 [==============================] - 16s 125ms/step - loss: 0.4803 - accuracy: 0.8226 - val_loss: 1.3106 - val_accuracy: 0.6328\n",
      "Epoch 18/25\n",
      "130/130 [==============================] - 16s 125ms/step - loss: 0.4713 - accuracy: 0.8290 - val_loss: 1.1229 - val_accuracy: 0.6719\n",
      "Epoch 19/25\n",
      "130/130 [==============================] - 17s 128ms/step - loss: 0.4326 - accuracy: 0.8385 - val_loss: 1.1817 - val_accuracy: 0.6016\n",
      "Epoch 20/25\n",
      "130/130 [==============================] - 17s 128ms/step - loss: 0.4231 - accuracy: 0.8409 - val_loss: 1.2069 - val_accuracy: 0.6953\n",
      "Epoch 21/25\n",
      "130/130 [==============================] - 16s 125ms/step - loss: 0.3898 - accuracy: 0.8607 - val_loss: 1.4393 - val_accuracy: 0.6328\n",
      "Epoch 22/25\n",
      "130/130 [==============================] - 16s 125ms/step - loss: 0.3579 - accuracy: 0.8723 - val_loss: 1.5095 - val_accuracy: 0.6328\n",
      "Epoch 23/25\n",
      "130/130 [==============================] - 16s 125ms/step - loss: 0.3399 - accuracy: 0.8827 - val_loss: 1.2735 - val_accuracy: 0.6562\n",
      "Epoch 24/25\n",
      "130/130 [==============================] - 16s 125ms/step - loss: 0.3443 - accuracy: 0.8803 - val_loss: 1.4863 - val_accuracy: 0.6328\n",
      "Epoch 25/25\n",
      "130/130 [==============================] - 16s 125ms/step - loss: 0.3201 - accuracy: 0.8863 - val_loss: 1.4929 - val_accuracy: 0.6641\n"
     ]
    },
    {
     "data": {
      "text/plain": [
       "<keras.callbacks.History at 0x25796195130>"
      ]
     },
     "execution_count": 19,
     "metadata": {},
     "output_type": "execute_result"
    }
   ],
   "source": [
    "model.fit_generator(X_train, steps_per_epoch = 130, epochs = 25, validation_data = X_test, validation_steps = 4)"
   ]
  },
  {
   "cell_type": "markdown",
   "id": "311782c0",
   "metadata": {},
   "source": [
    "# Saving the Model"
   ]
  },
  {
   "cell_type": "code",
   "execution_count": 20,
   "id": "37e8e276",
   "metadata": {},
   "outputs": [],
   "source": [
    "model.save('flowers.h5')"
   ]
  },
  {
   "cell_type": "code",
   "execution_count": null,
   "id": "7189f803",
   "metadata": {},
   "outputs": [],
   "source": []
  }
 ],
 "metadata": {
  "kernelspec": {
   "display_name": "Python 3 (ipykernel)",
   "language": "python",
   "name": "python3"
  },
  "language_info": {
   "codemirror_mode": {
    "name": "ipython",
    "version": 3
   },
   "file_extension": ".py",
   "mimetype": "text/x-python",
   "name": "python",
   "nbconvert_exporter": "python",
   "pygments_lexer": "ipython3",
   "version": "3.9.7"
  }
 },
 "nbformat": 4,
 "nbformat_minor": 5
}
